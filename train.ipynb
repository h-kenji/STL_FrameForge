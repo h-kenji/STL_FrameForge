{
 "cells": [
  {
   "cell_type": "markdown",
   "id": "cd888609-d5e6-428a-a67e-81632f298ced",
   "metadata": {},
   "source": [
    "# Training\n",
    "\n",
    "For some reason, the script train.py crashes WSL after a couple of epochs. Above is it's full code, run it from the notebook in case you got any error while running direct from the CLI.\n"
   ]
  },
  {
   "cell_type": "code",
   "execution_count": 1,
   "id": "0c90a3d4-62cf-487e-9c5b-0c2bd72c54f0",
   "metadata": {},
   "outputs": [
    {
     "name": "stdout",
     "output_type": "stream",
     "text": [
      "Error: Could not open input video.\n",
      "Dummy video saved in auxiliary_dirs/test_dummy folder.\n",
      "(200, 20, 3, 32, 32)\n"
     ]
    },
    {
     "name": "stderr",
     "output_type": "stream",
     "text": [
      "Seed set to 42\n",
      "GPU available: True (cuda), used: True\n",
      "TPU available: False, using: 0 TPU cores\n",
      "HPU available: False, using: 0 HPUs\n",
      "LOCAL_RANK: 0 - CUDA_VISIBLE_DEVICES: [0]\n"
     ]
    },
    {
     "name": "stdout",
     "output_type": "stream",
     "text": [
      ">>>>>>>>>>>>>>>>>>>>>>>>>>>>>>>>>>> training <<<<<<<<<<<<<<<<<<<<<<<<<<<<<<<<<<<\n"
     ]
    },
    {
     "name": "stderr",
     "output_type": "stream",
     "text": [
      "\n",
      "  | Name      | Type        | Params | Mode \n",
      "--------------------------------------------------\n",
      "0 | model     | SimVP_Model | 43.6 M | train\n",
      "1 | criterion | MSELoss     | 0      | train\n",
      "--------------------------------------------------\n",
      "43.6 M    Trainable params\n",
      "0         Non-trainable params\n",
      "43.6 M    Total params\n",
      "174.482   Total estimated model params size (MB)\n",
      "215       Modules in train mode\n",
      "0         Modules in eval mode\n"
     ]
    },
    {
     "name": "stdout",
     "output_type": "stream",
     "text": [
      "Environment info:\n",
      "------------------------------------------------------------\n",
      "sys.platform: linux\n",
      "Python: 3.10.8 | packaged by conda-forge | (main, Nov 22 2022, 08:26:04) [GCC 10.4.0]\n",
      "CUDA available: True\n",
      "CUDA_HOME: /usr/local/cuda\n",
      "NVCC: Build cuda_12.5.r12.5/compiler.34177558_0\n",
      "GPU 0: NVIDIA GeForce RTX 3060 Ti\n",
      "GCC: gcc (Ubuntu 11.4.0-1ubuntu1~22.04) 11.4.0\n",
      "PyTorch: 2.4.1+cu121\n",
      "PyTorch compiling details: PyTorch built with:\n",
      "  - GCC 9.3\n",
      "  - C++ Version: 201703\n",
      "  - Intel(R) oneAPI Math Kernel Library Version 2022.2-Product Build 20220804 for Intel(R) 64 architecture applications\n",
      "  - Intel(R) MKL-DNN v3.4.2 (Git Hash 1137e04ec0b5251ca2b4400a4fd3c667ce843d67)\n",
      "  - OpenMP 201511 (a.k.a. OpenMP 4.5)\n",
      "  - LAPACK is enabled (usually provided by MKL)\n",
      "  - NNPACK is enabled\n",
      "  - CPU capability usage: AVX2\n",
      "  - CUDA Runtime 12.1\n",
      "  - NVCC architecture flags: -gencode;arch=compute_50,code=sm_50;-gencode;arch=compute_60,code=sm_60;-gencode;arch=compute_70,code=sm_70;-gencode;arch=compute_75,code=sm_75;-gencode;arch=compute_80,code=sm_80;-gencode;arch=compute_86,code=sm_86;-gencode;arch=compute_90,code=sm_90\n",
      "  - CuDNN 90.1  (built against CUDA 12.4)\n",
      "  - Magma 2.6.1\n",
      "  - Build settings: BLAS_INFO=mkl, BUILD_TYPE=Release, CUDA_VERSION=12.1, CUDNN_VERSION=9.1.0, CXX_COMPILER=/opt/rh/devtoolset-9/root/usr/bin/c++, CXX_FLAGS= -D_GLIBCXX_USE_CXX11_ABI=0 -fabi-version=11 -fvisibility-inlines-hidden -DUSE_PTHREADPOOL -DNDEBUG -DUSE_KINETO -DLIBKINETO_NOROCTRACER -DUSE_FBGEMM -DUSE_PYTORCH_QNNPACK -DUSE_XNNPACK -DSYMBOLICATE_MOBILE_DEBUG_HANDLE -O2 -fPIC -Wall -Wextra -Werror=return-type -Werror=non-virtual-dtor -Werror=bool-operation -Wnarrowing -Wno-missing-field-initializers -Wno-type-limits -Wno-array-bounds -Wno-unknown-pragmas -Wno-unused-parameter -Wno-unused-function -Wno-unused-result -Wno-strict-overflow -Wno-strict-aliasing -Wno-stringop-overflow -Wsuggest-override -Wno-psabi -Wno-error=pedantic -Wno-error=old-style-cast -Wno-missing-braces -fdiagnostics-color=always -faligned-new -Wno-unused-but-set-variable -Wno-maybe-uninitialized -fno-math-errno -fno-trapping-math -Werror=format -Wno-stringop-overflow, LAPACK_INFO=mkl, PERF_WITH_AVX=1, PERF_WITH_AVX2=1, PERF_WITH_AVX512=1, TORCH_VERSION=2.4.1, USE_CUDA=ON, USE_CUDNN=ON, USE_CUSPARSELT=1, USE_EXCEPTION_PTR=1, USE_GFLAGS=OFF, USE_GLOG=OFF, USE_GLOO=ON, USE_MKL=ON, USE_MKLDNN=ON, USE_MPI=OFF, USE_NCCL=1, USE_NNPACK=ON, USE_OPENMP=ON, USE_ROCM=OFF, USE_ROCM_KERNEL_ASSERT=OFF, \n",
      "\n",
      "TorchVision: 0.19.1+cu121\n",
      "OpenCV: 4.10.0\n",
      "openstl: 1.0.0\n",
      "------------------------------------------------------------\n",
      "\n",
      "\n",
      "device: \tcuda\t\n",
      "dist: \tFalse\t\n",
      "res_dir: \twork_dirs\t\n",
      "ex_name: \tcustom_exp\t\n",
      "fp16: \tFalse\t\n",
      "torchscript: \tFalse\t\n",
      "seed: \t42\t\n",
      "fps: \tFalse\t\n",
      "test: \tFalse\t\n",
      "deterministic: \tFalse\t\n",
      "batch_size: \t4\t\n",
      "val_batch_size: \t4\t\n",
      "num_workers: \t4\t\n",
      "data_root: \t./data\t\n",
      "dataname: \tcustom\t\n",
      "pre_seq_length: \t20\t\n",
      "aft_seq_length: \t10\t\n",
      "total_length: \t30\t\n",
      "use_augment: \tFalse\t\n",
      "use_prefetcher: \tFalse\t\n",
      "drop_last: \tFalse\t\n",
      "method: \tsimvp\t\n",
      "config_file: \tNone\t\n",
      "model_type: \tgSTA\t\n",
      "drop: \t0.0\t\n",
      "drop_path: \t0.0\t\n",
      "overwrite: \tFalse\t\n",
      "epoch: \t30\t\n",
      "log_step: \t1\t\n",
      "opt: \tadam\t\n",
      "opt_eps: \tNone\t\n",
      "opt_betas: \tNone\t\n",
      "momentum: \t0.9\t\n",
      "weight_decay: \t0.0\t\n",
      "clip_grad: \tNone\t\n",
      "clip_mode: \tnorm\t\n",
      "no_display_method_info: \tFalse\t\n",
      "sched: \tonecycle\t\n",
      "lr: \t0.001\t\n",
      "lr_k_decay: \t1.0\t\n",
      "warmup_lr: \t1e-05\t\n",
      "min_lr: \t1e-06\t\n",
      "final_div_factor: \t10000.0\t\n",
      "warmup_epoch: \t0\t\n",
      "decay_epoch: \t100\t\n",
      "decay_rate: \t0.1\t\n",
      "filter_bias_and_bn: \tFalse\t\n",
      "gpus: \t[0]\t\n",
      "metric_for_bestckpt: \tval_loss\t\n",
      "ckpt_path: \tNone\t\n",
      "metrics: \t['mse', 'mae']\t\n",
      "in_shape: \t[20, 3, 32, 32]\t\n",
      "N_S: \t4\t\n",
      "N_T: \t8\t\n",
      "hid_S: \t64\t\n",
      "hid_T: \t256\t\n",
      "Model info:\n",
      "SimVP_Model(\n",
      "  (enc): Encoder(\n",
      "    (enc): Sequential(\n",
      "      (0): ConvSC(\n",
      "        (conv): BasicConv2d(\n",
      "          (conv): Conv2d(3, 64, kernel_size=(3, 3), stride=(1, 1), padding=(1, 1))\n",
      "          (norm): GroupNorm(2, 64, eps=1e-05, affine=True)\n",
      "          (act): SiLU()\n",
      "        )\n",
      "      )\n",
      "      (1): ConvSC(\n",
      "        (conv): BasicConv2d(\n",
      "          (conv): Conv2d(64, 64, kernel_size=(3, 3), stride=(2, 2), padding=(1, 1))\n",
      "          (norm): GroupNorm(2, 64, eps=1e-05, affine=True)\n",
      "          (act): SiLU()\n",
      "        )\n",
      "      )\n",
      "      (2): ConvSC(\n",
      "        (conv): BasicConv2d(\n",
      "          (conv): Conv2d(64, 64, kernel_size=(3, 3), stride=(1, 1), padding=(1, 1))\n",
      "          (norm): GroupNorm(2, 64, eps=1e-05, affine=True)\n",
      "          (act): SiLU()\n",
      "        )\n",
      "      )\n",
      "      (3): ConvSC(\n",
      "        (conv): BasicConv2d(\n",
      "          (conv): Conv2d(64, 64, kernel_size=(3, 3), stride=(2, 2), padding=(1, 1))\n",
      "          (norm): GroupNorm(2, 64, eps=1e-05, affine=True)\n",
      "          (act): SiLU()\n",
      "        )\n",
      "      )\n",
      "    )\n",
      "  )\n",
      "  (dec): Decoder(\n",
      "    (dec): Sequential(\n",
      "      (0): ConvSC(\n",
      "        (conv): BasicConv2d(\n",
      "          (conv): Sequential(\n",
      "            (0): Conv2d(64, 256, kernel_size=(3, 3), stride=(1, 1), padding=(1, 1))\n",
      "            (1): PixelShuffle(upscale_factor=2)\n",
      "          )\n",
      "          (norm): GroupNorm(2, 64, eps=1e-05, affine=True)\n",
      "          (act): SiLU()\n",
      "        )\n",
      "      )\n",
      "      (1): ConvSC(\n",
      "        (conv): BasicConv2d(\n",
      "          (conv): Conv2d(64, 64, kernel_size=(3, 3), stride=(1, 1), padding=(1, 1))\n",
      "          (norm): GroupNorm(2, 64, eps=1e-05, affine=True)\n",
      "          (act): SiLU()\n",
      "        )\n",
      "      )\n",
      "      (2): ConvSC(\n",
      "        (conv): BasicConv2d(\n",
      "          (conv): Sequential(\n",
      "            (0): Conv2d(64, 256, kernel_size=(3, 3), stride=(1, 1), padding=(1, 1))\n",
      "            (1): PixelShuffle(upscale_factor=2)\n",
      "          )\n",
      "          (norm): GroupNorm(2, 64, eps=1e-05, affine=True)\n",
      "          (act): SiLU()\n",
      "        )\n",
      "      )\n",
      "      (3): ConvSC(\n",
      "        (conv): BasicConv2d(\n",
      "          (conv): Conv2d(64, 64, kernel_size=(3, 3), stride=(1, 1), padding=(1, 1))\n",
      "          (norm): GroupNorm(2, 64, eps=1e-05, affine=True)\n",
      "          (act): SiLU()\n",
      "        )\n",
      "      )\n",
      "    )\n",
      "    (readout): Conv2d(64, 3, kernel_size=(1, 1), stride=(1, 1))\n",
      "  )\n",
      "  (hid): MidMetaNet(\n",
      "    (enc): Sequential(\n",
      "      (0): MetaBlock(\n",
      "        (block): GASubBlock(\n",
      "          (norm1): BatchNorm2d(1280, eps=1e-05, momentum=0.1, affine=True, track_running_stats=True)\n",
      "          (attn): SpatialAttention(\n",
      "            (proj_1): Conv2d(1280, 1280, kernel_size=(1, 1), stride=(1, 1))\n",
      "            (activation): GELU(approximate='none')\n",
      "            (spatial_gating_unit): AttentionModule(\n",
      "              (conv0): Conv2d(1280, 1280, kernel_size=(5, 5), stride=(1, 1), padding=(2, 2), groups=1280)\n",
      "              (conv_spatial): Conv2d(1280, 1280, kernel_size=(7, 7), stride=(1, 1), padding=(9, 9), dilation=(3, 3), groups=1280)\n",
      "              (conv1): Conv2d(1280, 2560, kernel_size=(1, 1), stride=(1, 1))\n",
      "            )\n",
      "            (proj_2): Conv2d(1280, 1280, kernel_size=(1, 1), stride=(1, 1))\n",
      "          )\n",
      "          (drop_path): DropPath(drop_prob=0.010)\n",
      "          (norm2): BatchNorm2d(1280, eps=1e-05, momentum=0.1, affine=True, track_running_stats=True)\n",
      "          (mlp): MixMlp(\n",
      "            (fc1): Conv2d(1280, 10240, kernel_size=(1, 1), stride=(1, 1))\n",
      "            (dwconv): DWConv(\n",
      "              (dwconv): Conv2d(10240, 10240, kernel_size=(3, 3), stride=(1, 1), padding=(1, 1), groups=10240)\n",
      "            )\n",
      "            (act): GELU(approximate='none')\n",
      "            (fc2): Conv2d(10240, 1280, kernel_size=(1, 1), stride=(1, 1))\n",
      "            (drop): Dropout(p=0.0, inplace=False)\n",
      "          )\n",
      "        )\n",
      "        (reduction): Conv2d(1280, 256, kernel_size=(1, 1), stride=(1, 1))\n",
      "      )\n",
      "      (1): MetaBlock(\n",
      "        (block): GASubBlock(\n",
      "          (norm1): BatchNorm2d(256, eps=1e-05, momentum=0.1, affine=True, track_running_stats=True)\n",
      "          (attn): SpatialAttention(\n",
      "            (proj_1): Conv2d(256, 256, kernel_size=(1, 1), stride=(1, 1))\n",
      "            (activation): GELU(approximate='none')\n",
      "            (spatial_gating_unit): AttentionModule(\n",
      "              (conv0): Conv2d(256, 256, kernel_size=(5, 5), stride=(1, 1), padding=(2, 2), groups=256)\n",
      "              (conv_spatial): Conv2d(256, 256, kernel_size=(7, 7), stride=(1, 1), padding=(9, 9), dilation=(3, 3), groups=256)\n",
      "              (conv1): Conv2d(256, 512, kernel_size=(1, 1), stride=(1, 1))\n",
      "            )\n",
      "            (proj_2): Conv2d(256, 256, kernel_size=(1, 1), stride=(1, 1))\n",
      "          )\n",
      "          (drop_path): DropPath(drop_prob=0.009)\n",
      "          (norm2): BatchNorm2d(256, eps=1e-05, momentum=0.1, affine=True, track_running_stats=True)\n",
      "          (mlp): MixMlp(\n",
      "            (fc1): Conv2d(256, 2048, kernel_size=(1, 1), stride=(1, 1))\n",
      "            (dwconv): DWConv(\n",
      "              (dwconv): Conv2d(2048, 2048, kernel_size=(3, 3), stride=(1, 1), padding=(1, 1), groups=2048)\n",
      "            )\n",
      "            (act): GELU(approximate='none')\n",
      "            (fc2): Conv2d(2048, 256, kernel_size=(1, 1), stride=(1, 1))\n",
      "            (drop): Dropout(p=0.0, inplace=False)\n",
      "          )\n",
      "        )\n",
      "      )\n",
      "      (2): MetaBlock(\n",
      "        (block): GASubBlock(\n",
      "          (norm1): BatchNorm2d(256, eps=1e-05, momentum=0.1, affine=True, track_running_stats=True)\n",
      "          (attn): SpatialAttention(\n",
      "            (proj_1): Conv2d(256, 256, kernel_size=(1, 1), stride=(1, 1))\n",
      "            (activation): GELU(approximate='none')\n",
      "            (spatial_gating_unit): AttentionModule(\n",
      "              (conv0): Conv2d(256, 256, kernel_size=(5, 5), stride=(1, 1), padding=(2, 2), groups=256)\n",
      "              (conv_spatial): Conv2d(256, 256, kernel_size=(7, 7), stride=(1, 1), padding=(9, 9), dilation=(3, 3), groups=256)\n",
      "              (conv1): Conv2d(256, 512, kernel_size=(1, 1), stride=(1, 1))\n",
      "            )\n",
      "            (proj_2): Conv2d(256, 256, kernel_size=(1, 1), stride=(1, 1))\n",
      "          )\n",
      "          (drop_path): DropPath(drop_prob=0.007)\n",
      "          (norm2): BatchNorm2d(256, eps=1e-05, momentum=0.1, affine=True, track_running_stats=True)\n",
      "          (mlp): MixMlp(\n",
      "            (fc1): Conv2d(256, 2048, kernel_size=(1, 1), stride=(1, 1))\n",
      "            (dwconv): DWConv(\n",
      "              (dwconv): Conv2d(2048, 2048, kernel_size=(3, 3), stride=(1, 1), padding=(1, 1), groups=2048)\n",
      "            )\n",
      "            (act): GELU(approximate='none')\n",
      "            (fc2): Conv2d(2048, 256, kernel_size=(1, 1), stride=(1, 1))\n",
      "            (drop): Dropout(p=0.0, inplace=False)\n",
      "          )\n",
      "        )\n",
      "      )\n",
      "      (3): MetaBlock(\n",
      "        (block): GASubBlock(\n",
      "          (norm1): BatchNorm2d(256, eps=1e-05, momentum=0.1, affine=True, track_running_stats=True)\n",
      "          (attn): SpatialAttention(\n",
      "            (proj_1): Conv2d(256, 256, kernel_size=(1, 1), stride=(1, 1))\n",
      "            (activation): GELU(approximate='none')\n",
      "            (spatial_gating_unit): AttentionModule(\n",
      "              (conv0): Conv2d(256, 256, kernel_size=(5, 5), stride=(1, 1), padding=(2, 2), groups=256)\n",
      "              (conv_spatial): Conv2d(256, 256, kernel_size=(7, 7), stride=(1, 1), padding=(9, 9), dilation=(3, 3), groups=256)\n",
      "              (conv1): Conv2d(256, 512, kernel_size=(1, 1), stride=(1, 1))\n",
      "            )\n",
      "            (proj_2): Conv2d(256, 256, kernel_size=(1, 1), stride=(1, 1))\n",
      "          )\n",
      "          (drop_path): DropPath(drop_prob=0.006)\n",
      "          (norm2): BatchNorm2d(256, eps=1e-05, momentum=0.1, affine=True, track_running_stats=True)\n",
      "          (mlp): MixMlp(\n",
      "            (fc1): Conv2d(256, 2048, kernel_size=(1, 1), stride=(1, 1))\n",
      "            (dwconv): DWConv(\n",
      "              (dwconv): Conv2d(2048, 2048, kernel_size=(3, 3), stride=(1, 1), padding=(1, 1), groups=2048)\n",
      "            )\n",
      "            (act): GELU(approximate='none')\n",
      "            (fc2): Conv2d(2048, 256, kernel_size=(1, 1), stride=(1, 1))\n",
      "            (drop): Dropout(p=0.0, inplace=False)\n",
      "          )\n",
      "        )\n",
      "      )\n",
      "      (4): MetaBlock(\n",
      "        (block): GASubBlock(\n",
      "          (norm1): BatchNorm2d(256, eps=1e-05, momentum=0.1, affine=True, track_running_stats=True)\n",
      "          (attn): SpatialAttention(\n",
      "            (proj_1): Conv2d(256, 256, kernel_size=(1, 1), stride=(1, 1))\n",
      "            (activation): GELU(approximate='none')\n",
      "            (spatial_gating_unit): AttentionModule(\n",
      "              (conv0): Conv2d(256, 256, kernel_size=(5, 5), stride=(1, 1), padding=(2, 2), groups=256)\n",
      "              (conv_spatial): Conv2d(256, 256, kernel_size=(7, 7), stride=(1, 1), padding=(9, 9), dilation=(3, 3), groups=256)\n",
      "              (conv1): Conv2d(256, 512, kernel_size=(1, 1), stride=(1, 1))\n",
      "            )\n",
      "            (proj_2): Conv2d(256, 256, kernel_size=(1, 1), stride=(1, 1))\n",
      "          )\n",
      "          (drop_path): DropPath(drop_prob=0.004)\n",
      "          (norm2): BatchNorm2d(256, eps=1e-05, momentum=0.1, affine=True, track_running_stats=True)\n",
      "          (mlp): MixMlp(\n",
      "            (fc1): Conv2d(256, 2048, kernel_size=(1, 1), stride=(1, 1))\n",
      "            (dwconv): DWConv(\n",
      "              (dwconv): Conv2d(2048, 2048, kernel_size=(3, 3), stride=(1, 1), padding=(1, 1), groups=2048)\n",
      "            )\n",
      "            (act): GELU(approximate='none')\n",
      "            (fc2): Conv2d(2048, 256, kernel_size=(1, 1), stride=(1, 1))\n",
      "            (drop): Dropout(p=0.0, inplace=False)\n",
      "          )\n",
      "        )\n",
      "      )\n",
      "      (5): MetaBlock(\n",
      "        (block): GASubBlock(\n",
      "          (norm1): BatchNorm2d(256, eps=1e-05, momentum=0.1, affine=True, track_running_stats=True)\n",
      "          (attn): SpatialAttention(\n",
      "            (proj_1): Conv2d(256, 256, kernel_size=(1, 1), stride=(1, 1))\n",
      "            (activation): GELU(approximate='none')\n",
      "            (spatial_gating_unit): AttentionModule(\n",
      "              (conv0): Conv2d(256, 256, kernel_size=(5, 5), stride=(1, 1), padding=(2, 2), groups=256)\n",
      "              (conv_spatial): Conv2d(256, 256, kernel_size=(7, 7), stride=(1, 1), padding=(9, 9), dilation=(3, 3), groups=256)\n",
      "              (conv1): Conv2d(256, 512, kernel_size=(1, 1), stride=(1, 1))\n",
      "            )\n",
      "            (proj_2): Conv2d(256, 256, kernel_size=(1, 1), stride=(1, 1))\n",
      "          )\n",
      "          (drop_path): DropPath(drop_prob=0.003)\n",
      "          (norm2): BatchNorm2d(256, eps=1e-05, momentum=0.1, affine=True, track_running_stats=True)\n",
      "          (mlp): MixMlp(\n",
      "            (fc1): Conv2d(256, 2048, kernel_size=(1, 1), stride=(1, 1))\n",
      "            (dwconv): DWConv(\n",
      "              (dwconv): Conv2d(2048, 2048, kernel_size=(3, 3), stride=(1, 1), padding=(1, 1), groups=2048)\n",
      "            )\n",
      "            (act): GELU(approximate='none')\n",
      "            (fc2): Conv2d(2048, 256, kernel_size=(1, 1), stride=(1, 1))\n",
      "            (drop): Dropout(p=0.0, inplace=False)\n",
      "          )\n",
      "        )\n",
      "      )\n",
      "      (6): MetaBlock(\n",
      "        (block): GASubBlock(\n",
      "          (norm1): BatchNorm2d(256, eps=1e-05, momentum=0.1, affine=True, track_running_stats=True)\n",
      "          (attn): SpatialAttention(\n",
      "            (proj_1): Conv2d(256, 256, kernel_size=(1, 1), stride=(1, 1))\n",
      "            (activation): GELU(approximate='none')\n",
      "            (spatial_gating_unit): AttentionModule(\n",
      "              (conv0): Conv2d(256, 256, kernel_size=(5, 5), stride=(1, 1), padding=(2, 2), groups=256)\n",
      "              (conv_spatial): Conv2d(256, 256, kernel_size=(7, 7), stride=(1, 1), padding=(9, 9), dilation=(3, 3), groups=256)\n",
      "              (conv1): Conv2d(256, 512, kernel_size=(1, 1), stride=(1, 1))\n",
      "            )\n",
      "            (proj_2): Conv2d(256, 256, kernel_size=(1, 1), stride=(1, 1))\n",
      "          )\n",
      "          (drop_path): DropPath(drop_prob=0.001)\n",
      "          (norm2): BatchNorm2d(256, eps=1e-05, momentum=0.1, affine=True, track_running_stats=True)\n",
      "          (mlp): MixMlp(\n",
      "            (fc1): Conv2d(256, 2048, kernel_size=(1, 1), stride=(1, 1))\n",
      "            (dwconv): DWConv(\n",
      "              (dwconv): Conv2d(2048, 2048, kernel_size=(3, 3), stride=(1, 1), padding=(1, 1), groups=2048)\n",
      "            )\n",
      "            (act): GELU(approximate='none')\n",
      "            (fc2): Conv2d(2048, 256, kernel_size=(1, 1), stride=(1, 1))\n",
      "            (drop): Dropout(p=0.0, inplace=False)\n",
      "          )\n",
      "        )\n",
      "      )\n",
      "      (7): MetaBlock(\n",
      "        (block): GASubBlock(\n",
      "          (norm1): BatchNorm2d(256, eps=1e-05, momentum=0.1, affine=True, track_running_stats=True)\n",
      "          (attn): SpatialAttention(\n",
      "            (proj_1): Conv2d(256, 256, kernel_size=(1, 1), stride=(1, 1))\n",
      "            (activation): GELU(approximate='none')\n",
      "            (spatial_gating_unit): AttentionModule(\n",
      "              (conv0): Conv2d(256, 256, kernel_size=(5, 5), stride=(1, 1), padding=(2, 2), groups=256)\n",
      "              (conv_spatial): Conv2d(256, 256, kernel_size=(7, 7), stride=(1, 1), padding=(9, 9), dilation=(3, 3), groups=256)\n",
      "              (conv1): Conv2d(256, 512, kernel_size=(1, 1), stride=(1, 1))\n",
      "            )\n",
      "            (proj_2): Conv2d(256, 256, kernel_size=(1, 1), stride=(1, 1))\n",
      "          )\n",
      "          (drop_path): Identity()\n",
      "          (norm2): BatchNorm2d(256, eps=1e-05, momentum=0.1, affine=True, track_running_stats=True)\n",
      "          (mlp): MixMlp(\n",
      "            (fc1): Conv2d(256, 2048, kernel_size=(1, 1), stride=(1, 1))\n",
      "            (dwconv): DWConv(\n",
      "              (dwconv): Conv2d(2048, 2048, kernel_size=(3, 3), stride=(1, 1), padding=(1, 1), groups=2048)\n",
      "            )\n",
      "            (act): GELU(approximate='none')\n",
      "            (fc2): Conv2d(2048, 256, kernel_size=(1, 1), stride=(1, 1))\n",
      "            (drop): Dropout(p=0.0, inplace=False)\n",
      "          )\n",
      "        )\n",
      "        (reduction): Conv2d(256, 1280, kernel_size=(1, 1), stride=(1, 1))\n",
      "      )\n",
      "    )\n",
      "  )\n",
      ")\n",
      "| module                           | #parameters or shape   | #flops     |\n",
      "|:---------------------------------|:-----------------------|:-----------|\n",
      "| model                            | 43.621M                | 5.135G     |\n",
      "|  enc.enc                         |  0.113M                |  0.47G     |\n",
      "|   enc.enc.0.conv                 |   1.92K                |   41.943M  |\n",
      "|    enc.enc.0.conv.conv           |    1.792K              |    35.389M |\n",
      "|    enc.enc.0.conv.norm           |    0.128K              |    6.554M  |\n",
      "|   enc.enc.1.conv                 |   37.056K              |   0.19G    |\n",
      "|    enc.enc.1.conv.conv           |    36.928K             |    0.189G  |\n",
      "|    enc.enc.1.conv.norm           |    0.128K              |    1.638M  |\n",
      "|   enc.enc.2.conv                 |   37.056K              |   0.19G    |\n",
      "|    enc.enc.2.conv.conv           |    36.928K             |    0.189G  |\n",
      "|    enc.enc.2.conv.norm           |    0.128K              |    1.638M  |\n",
      "|   enc.enc.3.conv                 |   37.056K              |   47.596M  |\n",
      "|    enc.enc.3.conv.conv           |    36.928K             |    47.186M |\n",
      "|    enc.enc.3.conv.norm           |    0.128K              |    0.41M   |\n",
      "|  dec                             |  0.37M                 |  1.908G    |\n",
      "|   dec.dec                        |   0.37M                |   1.904G   |\n",
      "|    dec.dec.0.conv                |    0.148M              |    0.19G   |\n",
      "|    dec.dec.1.conv                |    37.056K             |    0.19G   |\n",
      "|    dec.dec.2.conv                |    0.148M              |    0.762G  |\n",
      "|    dec.dec.3.conv                |    37.056K             |    0.762G  |\n",
      "|   dec.readout                    |   0.195K               |   3.932M   |\n",
      "|    dec.readout.weight            |    (3, 64, 1, 1)       |            |\n",
      "|    dec.readout.bias              |    (3,)                |            |\n",
      "|  hid.enc                         |  43.138M               |  2.757G    |\n",
      "|   hid.enc.0                      |   33.32M               |   2.131G   |\n",
      "|    hid.enc.0.block               |    32.992M             |    2.11G   |\n",
      "|    hid.enc.0.reduction           |    0.328M              |    20.972M |\n",
      "|   hid.enc.1.block                |   1.356M               |   86.442M  |\n",
      "|    hid.enc.1.block.layer_scale_1 |    (256,)              |            |\n",
      "|    hid.enc.1.block.layer_scale_2 |    (256,)              |            |\n",
      "|    hid.enc.1.block.norm1         |    0.512K              |    81.92K  |\n",
      "|    hid.enc.1.block.attn          |    0.283M              |    17.99M  |\n",
      "|    hid.enc.1.block.norm2         |    0.512K              |    81.92K  |\n",
      "|    hid.enc.1.block.mlp           |    1.071M              |    68.289M |\n",
      "|   hid.enc.2.block                |   1.356M               |   86.442M  |\n",
      "|    hid.enc.2.block.layer_scale_1 |    (256,)              |            |\n",
      "|    hid.enc.2.block.layer_scale_2 |    (256,)              |            |\n",
      "|    hid.enc.2.block.norm1         |    0.512K              |    81.92K  |\n",
      "|    hid.enc.2.block.attn          |    0.283M              |    17.99M  |\n",
      "|    hid.enc.2.block.norm2         |    0.512K              |    81.92K  |\n",
      "|    hid.enc.2.block.mlp           |    1.071M              |    68.289M |\n",
      "|   hid.enc.3.block                |   1.356M               |   86.442M  |\n",
      "|    hid.enc.3.block.layer_scale_1 |    (256,)              |            |\n",
      "|    hid.enc.3.block.layer_scale_2 |    (256,)              |            |\n",
      "|    hid.enc.3.block.norm1         |    0.512K              |    81.92K  |\n",
      "|    hid.enc.3.block.attn          |    0.283M              |    17.99M  |\n",
      "|    hid.enc.3.block.norm2         |    0.512K              |    81.92K  |\n",
      "|    hid.enc.3.block.mlp           |    1.071M              |    68.289M |\n",
      "|   hid.enc.4.block                |   1.356M               |   86.442M  |\n",
      "|    hid.enc.4.block.layer_scale_1 |    (256,)              |            |\n",
      "|    hid.enc.4.block.layer_scale_2 |    (256,)              |            |\n",
      "|    hid.enc.4.block.norm1         |    0.512K              |    81.92K  |\n",
      "|    hid.enc.4.block.attn          |    0.283M              |    17.99M  |\n",
      "|    hid.enc.4.block.norm2         |    0.512K              |    81.92K  |\n",
      "|    hid.enc.4.block.mlp           |    1.071M              |    68.289M |\n",
      "|   hid.enc.5.block                |   1.356M               |   86.442M  |\n",
      "|    hid.enc.5.block.layer_scale_1 |    (256,)              |            |\n",
      "|    hid.enc.5.block.layer_scale_2 |    (256,)              |            |\n",
      "|    hid.enc.5.block.norm1         |    0.512K              |    81.92K  |\n",
      "|    hid.enc.5.block.attn          |    0.283M              |    17.99M  |\n",
      "|    hid.enc.5.block.norm2         |    0.512K              |    81.92K  |\n",
      "|    hid.enc.5.block.mlp           |    1.071M              |    68.289M |\n",
      "|   hid.enc.6.block                |   1.356M               |   86.442M  |\n",
      "|    hid.enc.6.block.layer_scale_1 |    (256,)              |            |\n",
      "|    hid.enc.6.block.layer_scale_2 |    (256,)              |            |\n",
      "|    hid.enc.6.block.norm1         |    0.512K              |    81.92K  |\n",
      "|    hid.enc.6.block.attn          |    0.283M              |    17.99M  |\n",
      "|    hid.enc.6.block.norm2         |    0.512K              |    81.92K  |\n",
      "|    hid.enc.6.block.mlp           |    1.071M              |    68.289M |\n",
      "|   hid.enc.7                      |   1.684M               |   0.107G   |\n",
      "|    hid.enc.7.block               |    1.356M              |    86.442M |\n",
      "|    hid.enc.7.reduction           |    0.329M              |    20.972M |\n",
      "--------------------------------------------------------------------------------\n",
      "\n"
     ]
    },
    {
     "data": {
      "application/vnd.jupyter.widget-view+json": {
       "model_id": "",
       "version_major": 2,
       "version_minor": 0
      },
      "text/plain": [
       "Sanity Checking: |                                                                                | 0/? [00:00…"
      ]
     },
     "metadata": {},
     "output_type": "display_data"
    },
    {
     "data": {
      "application/vnd.jupyter.widget-view+json": {
       "model_id": "a9d56511131549d985c7cbc5e0d15115",
       "version_major": 2,
       "version_minor": 0
      },
      "text/plain": [
       "Training: |                                                                                       | 0/? [00:00…"
      ]
     },
     "metadata": {},
     "output_type": "display_data"
    },
    {
     "data": {
      "application/vnd.jupyter.widget-view+json": {
       "model_id": "",
       "version_major": 2,
       "version_minor": 0
      },
      "text/plain": [
       "Validation: |                                                                                     | 0/? [00:00…"
      ]
     },
     "metadata": {},
     "output_type": "display_data"
    },
    {
     "name": "stderr",
     "output_type": "stream",
     "text": [
      "Epoch 0, global step 50: 'val_loss' reached 0.00584 (best 0.00584), saving model to '/home/hokutani/tg/OpenSTL/STL_FrameForge/work_dirs/custom_exp/checkpoints/best-epoch=00-val_loss=0.006.ckpt' as top 1\n"
     ]
    },
    {
     "data": {
      "application/vnd.jupyter.widget-view+json": {
       "model_id": "",
       "version_major": 2,
       "version_minor": 0
      },
      "text/plain": [
       "Validation: |                                                                                     | 0/? [00:00…"
      ]
     },
     "metadata": {},
     "output_type": "display_data"
    },
    {
     "name": "stdout",
     "output_type": "stream",
     "text": [
      "Epoch 1: Lr: 0.0001528 | Train Loss: 0.0191539 | Vali Loss: 0.0032419\n"
     ]
    },
    {
     "name": "stderr",
     "output_type": "stream",
     "text": [
      "Epoch 1, global step 100: 'val_loss' reached 0.00324 (best 0.00324), saving model to '/home/hokutani/tg/OpenSTL/STL_FrameForge/work_dirs/custom_exp/checkpoints/best-epoch=01-val_loss=0.003.ckpt' as top 1\n"
     ]
    },
    {
     "data": {
      "application/vnd.jupyter.widget-view+json": {
       "model_id": "",
       "version_major": 2,
       "version_minor": 0
      },
      "text/plain": [
       "Validation: |                                                                                     | 0/? [00:00…"
      ]
     },
     "metadata": {},
     "output_type": "display_data"
    },
    {
     "name": "stdout",
     "output_type": "stream",
     "text": [
      "Epoch 2: Lr: 0.0002810 | Train Loss: 0.0057198 | Vali Loss: 0.0027739\n"
     ]
    },
    {
     "name": "stderr",
     "output_type": "stream",
     "text": [
      "Epoch 2, global step 150: 'val_loss' reached 0.00277 (best 0.00277), saving model to '/home/hokutani/tg/OpenSTL/STL_FrameForge/work_dirs/custom_exp/checkpoints/best-epoch=02-val_loss=0.003.ckpt' as top 1\n"
     ]
    },
    {
     "data": {
      "application/vnd.jupyter.widget-view+json": {
       "model_id": "",
       "version_major": 2,
       "version_minor": 0
      },
      "text/plain": [
       "Validation: |                                                                                     | 0/? [00:00…"
      ]
     },
     "metadata": {},
     "output_type": "display_data"
    },
    {
     "name": "stdout",
     "output_type": "stream",
     "text": [
      "Epoch 3: Lr: 0.0004381 | Train Loss: 0.0047069 | Vali Loss: 0.0028669\n"
     ]
    },
    {
     "name": "stderr",
     "output_type": "stream",
     "text": [
      "Epoch 3, global step 200: 'val_loss' was not in top 1\n"
     ]
    },
    {
     "data": {
      "application/vnd.jupyter.widget-view+json": {
       "model_id": "",
       "version_major": 2,
       "version_minor": 0
      },
      "text/plain": [
       "Validation: |                                                                                     | 0/? [00:00…"
      ]
     },
     "metadata": {},
     "output_type": "display_data"
    },
    {
     "name": "stdout",
     "output_type": "stream",
     "text": [
      "Epoch 4: Lr: 0.0006052 | Train Loss: 0.0046112 | Vali Loss: 0.0026521\n"
     ]
    },
    {
     "name": "stderr",
     "output_type": "stream",
     "text": [
      "Epoch 4, global step 250: 'val_loss' reached 0.00265 (best 0.00265), saving model to '/home/hokutani/tg/OpenSTL/STL_FrameForge/work_dirs/custom_exp/checkpoints/best-epoch=04-val_loss=0.003.ckpt' as top 1\n"
     ]
    },
    {
     "data": {
      "application/vnd.jupyter.widget-view+json": {
       "model_id": "",
       "version_major": 2,
       "version_minor": 0
      },
      "text/plain": [
       "Validation: |                                                                                     | 0/? [00:00…"
      ]
     },
     "metadata": {},
     "output_type": "display_data"
    },
    {
     "name": "stdout",
     "output_type": "stream",
     "text": [
      "Epoch 5: Lr: 0.0007619 | Train Loss: 0.0046699 | Vali Loss: 0.0029399\n"
     ]
    },
    {
     "name": "stderr",
     "output_type": "stream",
     "text": [
      "Epoch 5, global step 300: 'val_loss' was not in top 1\n"
     ]
    },
    {
     "data": {
      "application/vnd.jupyter.widget-view+json": {
       "model_id": "",
       "version_major": 2,
       "version_minor": 0
      },
      "text/plain": [
       "Validation: |                                                                                     | 0/? [00:00…"
      ]
     },
     "metadata": {},
     "output_type": "display_data"
    },
    {
     "name": "stdout",
     "output_type": "stream",
     "text": [
      "Epoch 6: Lr: 0.0008894 | Train Loss: 0.0046736 | Vali Loss: 0.0025427\n"
     ]
    },
    {
     "name": "stderr",
     "output_type": "stream",
     "text": [
      "Epoch 6, global step 350: 'val_loss' reached 0.00254 (best 0.00254), saving model to '/home/hokutani/tg/OpenSTL/STL_FrameForge/work_dirs/custom_exp/checkpoints/best-epoch=06-val_loss=0.003.ckpt' as top 1\n"
     ]
    },
    {
     "data": {
      "application/vnd.jupyter.widget-view+json": {
       "model_id": "",
       "version_major": 2,
       "version_minor": 0
      },
      "text/plain": [
       "Validation: |                                                                                     | 0/? [00:00…"
      ]
     },
     "metadata": {},
     "output_type": "display_data"
    },
    {
     "name": "stdout",
     "output_type": "stream",
     "text": [
      "Epoch 7: Lr: 0.0009721 | Train Loss: 0.0049591 | Vali Loss: 0.0026712\n"
     ]
    },
    {
     "name": "stderr",
     "output_type": "stream",
     "text": [
      "Epoch 7, global step 400: 'val_loss' was not in top 1\n"
     ]
    },
    {
     "data": {
      "application/vnd.jupyter.widget-view+json": {
       "model_id": "",
       "version_major": 2,
       "version_minor": 0
      },
      "text/plain": [
       "Validation: |                                                                                     | 0/? [00:00…"
      ]
     },
     "metadata": {},
     "output_type": "display_data"
    },
    {
     "name": "stdout",
     "output_type": "stream",
     "text": [
      "Epoch 8: Lr: 0.0010000 | Train Loss: 0.0042635 | Vali Loss: 0.0025278\n"
     ]
    },
    {
     "name": "stderr",
     "output_type": "stream",
     "text": [
      "Epoch 8, global step 450: 'val_loss' reached 0.00253 (best 0.00253), saving model to '/home/hokutani/tg/OpenSTL/STL_FrameForge/work_dirs/custom_exp/checkpoints/best-epoch=08-val_loss=0.003.ckpt' as top 1\n"
     ]
    },
    {
     "data": {
      "application/vnd.jupyter.widget-view+json": {
       "model_id": "",
       "version_major": 2,
       "version_minor": 0
      },
      "text/plain": [
       "Validation: |                                                                                     | 0/? [00:00…"
      ]
     },
     "metadata": {},
     "output_type": "display_data"
    },
    {
     "name": "stdout",
     "output_type": "stream",
     "text": [
      "Epoch 9: Lr: 0.0009942 | Train Loss: 0.0041291 | Vali Loss: 0.0021646\n"
     ]
    },
    {
     "name": "stderr",
     "output_type": "stream",
     "text": [
      "Epoch 9, global step 500: 'val_loss' reached 0.00216 (best 0.00216), saving model to '/home/hokutani/tg/OpenSTL/STL_FrameForge/work_dirs/custom_exp/checkpoints/best-epoch=09-val_loss=0.002.ckpt' as top 1\n"
     ]
    },
    {
     "data": {
      "application/vnd.jupyter.widget-view+json": {
       "model_id": "",
       "version_major": 2,
       "version_minor": 0
      },
      "text/plain": [
       "Validation: |                                                                                     | 0/? [00:00…"
      ]
     },
     "metadata": {},
     "output_type": "display_data"
    },
    {
     "name": "stdout",
     "output_type": "stream",
     "text": [
      "Epoch 10: Lr: 0.0009773 | Train Loss: 0.0041392 | Vali Loss: 0.0021906\n"
     ]
    },
    {
     "name": "stderr",
     "output_type": "stream",
     "text": [
      "Epoch 10, global step 550: 'val_loss' was not in top 1\n"
     ]
    },
    {
     "data": {
      "application/vnd.jupyter.widget-view+json": {
       "model_id": "",
       "version_major": 2,
       "version_minor": 0
      },
      "text/plain": [
       "Validation: |                                                                                     | 0/? [00:00…"
      ]
     },
     "metadata": {},
     "output_type": "display_data"
    },
    {
     "name": "stdout",
     "output_type": "stream",
     "text": [
      "Epoch 11: Lr: 0.0009498 | Train Loss: 0.0041213 | Vali Loss: 0.0023027\n"
     ]
    },
    {
     "name": "stderr",
     "output_type": "stream",
     "text": [
      "Epoch 11, global step 600: 'val_loss' was not in top 1\n"
     ]
    },
    {
     "data": {
      "application/vnd.jupyter.widget-view+json": {
       "model_id": "",
       "version_major": 2,
       "version_minor": 0
      },
      "text/plain": [
       "Validation: |                                                                                     | 0/? [00:00…"
      ]
     },
     "metadata": {},
     "output_type": "display_data"
    },
    {
     "name": "stdout",
     "output_type": "stream",
     "text": [
      "Epoch 12: Lr: 0.0009123 | Train Loss: 0.0037975 | Vali Loss: 0.0023569\n"
     ]
    },
    {
     "name": "stderr",
     "output_type": "stream",
     "text": [
      "Epoch 12, global step 650: 'val_loss' was not in top 1\n"
     ]
    },
    {
     "data": {
      "application/vnd.jupyter.widget-view+json": {
       "model_id": "",
       "version_major": 2,
       "version_minor": 0
      },
      "text/plain": [
       "Validation: |                                                                                     | 0/? [00:00…"
      ]
     },
     "metadata": {},
     "output_type": "display_data"
    },
    {
     "name": "stdout",
     "output_type": "stream",
     "text": [
      "Epoch 13: Lr: 0.0008655 | Train Loss: 0.0036736 | Vali Loss: 0.0020753\n"
     ]
    },
    {
     "name": "stderr",
     "output_type": "stream",
     "text": [
      "Epoch 13, global step 700: 'val_loss' reached 0.00208 (best 0.00208), saving model to '/home/hokutani/tg/OpenSTL/STL_FrameForge/work_dirs/custom_exp/checkpoints/best-epoch=13-val_loss=0.002.ckpt' as top 1\n"
     ]
    },
    {
     "data": {
      "application/vnd.jupyter.widget-view+json": {
       "model_id": "",
       "version_major": 2,
       "version_minor": 0
      },
      "text/plain": [
       "Validation: |                                                                                     | 0/? [00:00…"
      ]
     },
     "metadata": {},
     "output_type": "display_data"
    },
    {
     "name": "stdout",
     "output_type": "stream",
     "text": [
      "Epoch 14: Lr: 0.0008106 | Train Loss: 0.0034452 | Vali Loss: 0.0019663\n"
     ]
    },
    {
     "name": "stderr",
     "output_type": "stream",
     "text": [
      "Epoch 14, global step 750: 'val_loss' reached 0.00197 (best 0.00197), saving model to '/home/hokutani/tg/OpenSTL/STL_FrameForge/work_dirs/custom_exp/checkpoints/best-epoch=14-val_loss=0.002.ckpt' as top 1\n"
     ]
    },
    {
     "data": {
      "application/vnd.jupyter.widget-view+json": {
       "model_id": "3c6aa1094f554c2cb20ee718a2d90c47",
       "version_major": 2,
       "version_minor": 0
      },
      "text/plain": [
       "Validation: |                                                                                     | 0/? [00:00…"
      ]
     },
     "metadata": {},
     "output_type": "display_data"
    },
    {
     "name": "stdout",
     "output_type": "stream",
     "text": [
      "Epoch 15: Lr: 0.0007487 | Train Loss: 0.0032917 | Vali Loss: 0.0021028\n"
     ]
    },
    {
     "name": "stderr",
     "output_type": "stream",
     "text": [
      "Epoch 15, global step 800: 'val_loss' was not in top 1\n"
     ]
    },
    {
     "data": {
      "application/vnd.jupyter.widget-view+json": {
       "model_id": "fd58fe851e084161afd88ec836d44d05",
       "version_major": 2,
       "version_minor": 0
      },
      "text/plain": [
       "Validation: |                                                                                     | 0/? [00:00…"
      ]
     },
     "metadata": {},
     "output_type": "display_data"
    },
    {
     "name": "stdout",
     "output_type": "stream",
     "text": [
      "Epoch 16: Lr: 0.0006813 | Train Loss: 0.0034260 | Vali Loss: 0.0018856\n"
     ]
    },
    {
     "name": "stderr",
     "output_type": "stream",
     "text": [
      "Epoch 16, global step 850: 'val_loss' reached 0.00189 (best 0.00189), saving model to '/home/hokutani/tg/OpenSTL/STL_FrameForge/work_dirs/custom_exp/checkpoints/best-epoch=16-val_loss=0.002.ckpt' as top 1\n"
     ]
    },
    {
     "data": {
      "application/vnd.jupyter.widget-view+json": {
       "model_id": "ba1245d52da0408ea017c2be084b3bc7",
       "version_major": 2,
       "version_minor": 0
      },
      "text/plain": [
       "Validation: |                                                                                     | 0/? [00:00…"
      ]
     },
     "metadata": {},
     "output_type": "display_data"
    },
    {
     "name": "stdout",
     "output_type": "stream",
     "text": [
      "Epoch 17: Lr: 0.0006098 | Train Loss: 0.0031765 | Vali Loss: 0.0021764\n"
     ]
    },
    {
     "name": "stderr",
     "output_type": "stream",
     "text": [
      "Epoch 17, global step 900: 'val_loss' was not in top 1\n"
     ]
    },
    {
     "data": {
      "application/vnd.jupyter.widget-view+json": {
       "model_id": "ed4116e70ba04cfb9c02082d329ba80a",
       "version_major": 2,
       "version_minor": 0
      },
      "text/plain": [
       "Validation: |                                                                                     | 0/? [00:00…"
      ]
     },
     "metadata": {},
     "output_type": "display_data"
    },
    {
     "name": "stdout",
     "output_type": "stream",
     "text": [
      "Epoch 18: Lr: 0.0005359 | Train Loss: 0.0032157 | Vali Loss: 0.0018874\n"
     ]
    },
    {
     "name": "stderr",
     "output_type": "stream",
     "text": [
      "Epoch 18, global step 950: 'val_loss' was not in top 1\n"
     ]
    },
    {
     "data": {
      "application/vnd.jupyter.widget-view+json": {
       "model_id": "003ba3eab27a4895ad9a107bc8c28cd8",
       "version_major": 2,
       "version_minor": 0
      },
      "text/plain": [
       "Validation: |                                                                                     | 0/? [00:00…"
      ]
     },
     "metadata": {},
     "output_type": "display_data"
    },
    {
     "name": "stdout",
     "output_type": "stream",
     "text": [
      "Epoch 19: Lr: 0.0004611 | Train Loss: 0.0031837 | Vali Loss: 0.0018486\n"
     ]
    },
    {
     "name": "stderr",
     "output_type": "stream",
     "text": [
      "Epoch 19, global step 1000: 'val_loss' reached 0.00185 (best 0.00185), saving model to '/home/hokutani/tg/OpenSTL/STL_FrameForge/work_dirs/custom_exp/checkpoints/best-epoch=19-val_loss=0.002.ckpt' as top 1\n"
     ]
    },
    {
     "data": {
      "application/vnd.jupyter.widget-view+json": {
       "model_id": "2ae07745fea2412eab6eb854a2b645ee",
       "version_major": 2,
       "version_minor": 0
      },
      "text/plain": [
       "Validation: |                                                                                     | 0/? [00:00…"
      ]
     },
     "metadata": {},
     "output_type": "display_data"
    },
    {
     "name": "stdout",
     "output_type": "stream",
     "text": [
      "Epoch 20: Lr: 0.0003873 | Train Loss: 0.0030342 | Vali Loss: 0.0019848\n"
     ]
    },
    {
     "name": "stderr",
     "output_type": "stream",
     "text": [
      "Epoch 20, global step 1050: 'val_loss' was not in top 1\n"
     ]
    },
    {
     "data": {
      "application/vnd.jupyter.widget-view+json": {
       "model_id": "9f308c161fbf4fca998b6d44d8fa7424",
       "version_major": 2,
       "version_minor": 0
      },
      "text/plain": [
       "Validation: |                                                                                     | 0/? [00:00…"
      ]
     },
     "metadata": {},
     "output_type": "display_data"
    },
    {
     "name": "stdout",
     "output_type": "stream",
     "text": [
      "Epoch 21: Lr: 0.0003159 | Train Loss: 0.0027868 | Vali Loss: 0.0020049\n"
     ]
    },
    {
     "name": "stderr",
     "output_type": "stream",
     "text": [
      "Epoch 21, global step 1100: 'val_loss' was not in top 1\n"
     ]
    },
    {
     "data": {
      "application/vnd.jupyter.widget-view+json": {
       "model_id": "9a4f6afd5a1f4d7187f93e577b6e4893",
       "version_major": 2,
       "version_minor": 0
      },
      "text/plain": [
       "Validation: |                                                                                     | 0/? [00:00…"
      ]
     },
     "metadata": {},
     "output_type": "display_data"
    },
    {
     "name": "stdout",
     "output_type": "stream",
     "text": [
      "Epoch 22: Lr: 0.0002487 | Train Loss: 0.0027107 | Vali Loss: 0.0019139\n"
     ]
    },
    {
     "name": "stderr",
     "output_type": "stream",
     "text": [
      "Epoch 22, global step 1150: 'val_loss' was not in top 1\n"
     ]
    },
    {
     "data": {
      "application/vnd.jupyter.widget-view+json": {
       "model_id": "e87cd2f8b2eb4dd6a66058caf513a2ea",
       "version_major": 2,
       "version_minor": 0
      },
      "text/plain": [
       "Validation: |                                                                                     | 0/? [00:00…"
      ]
     },
     "metadata": {},
     "output_type": "display_data"
    },
    {
     "name": "stdout",
     "output_type": "stream",
     "text": [
      "Epoch 23: Lr: 0.0001871 | Train Loss: 0.0026735 | Vali Loss: 0.0020633\n"
     ]
    },
    {
     "name": "stderr",
     "output_type": "stream",
     "text": [
      "Epoch 23, global step 1200: 'val_loss' was not in top 1\n"
     ]
    },
    {
     "data": {
      "application/vnd.jupyter.widget-view+json": {
       "model_id": "ba57df1d65504d86bf4ebdaad13a456b",
       "version_major": 2,
       "version_minor": 0
      },
      "text/plain": [
       "Validation: |                                                                                     | 0/? [00:00…"
      ]
     },
     "metadata": {},
     "output_type": "display_data"
    },
    {
     "name": "stdout",
     "output_type": "stream",
     "text": [
      "Epoch 24: Lr: 0.0001325 | Train Loss: 0.0025658 | Vali Loss: 0.0020510\n"
     ]
    },
    {
     "name": "stderr",
     "output_type": "stream",
     "text": [
      "Epoch 24, global step 1250: 'val_loss' was not in top 1\n"
     ]
    },
    {
     "data": {
      "application/vnd.jupyter.widget-view+json": {
       "model_id": "9acb139193eb4acbaf5581f8591f2b8e",
       "version_major": 2,
       "version_minor": 0
      },
      "text/plain": [
       "Validation: |                                                                                     | 0/? [00:00…"
      ]
     },
     "metadata": {},
     "output_type": "display_data"
    },
    {
     "name": "stdout",
     "output_type": "stream",
     "text": [
      "Epoch 25: Lr: 0.0000860 | Train Loss: 0.0023114 | Vali Loss: 0.0019637\n"
     ]
    },
    {
     "name": "stderr",
     "output_type": "stream",
     "text": [
      "Epoch 25, global step 1300: 'val_loss' was not in top 1\n"
     ]
    },
    {
     "data": {
      "application/vnd.jupyter.widget-view+json": {
       "model_id": "f45052230f4549a8b37a3fe228c45e24",
       "version_major": 2,
       "version_minor": 0
      },
      "text/plain": [
       "Validation: |                                                                                     | 0/? [00:00…"
      ]
     },
     "metadata": {},
     "output_type": "display_data"
    },
    {
     "name": "stdout",
     "output_type": "stream",
     "text": [
      "Epoch 26: Lr: 0.0000489 | Train Loss: 0.0022424 | Vali Loss: 0.0019979\n"
     ]
    },
    {
     "name": "stderr",
     "output_type": "stream",
     "text": [
      "Epoch 26, global step 1350: 'val_loss' was not in top 1\n"
     ]
    },
    {
     "data": {
      "application/vnd.jupyter.widget-view+json": {
       "model_id": "beddc8207f1a4bf7998c30638a8a257f",
       "version_major": 2,
       "version_minor": 0
      },
      "text/plain": [
       "Validation: |                                                                                     | 0/? [00:00…"
      ]
     },
     "metadata": {},
     "output_type": "display_data"
    },
    {
     "name": "stdout",
     "output_type": "stream",
     "text": [
      "Epoch 27: Lr: 0.0000218 | Train Loss: 0.0021924 | Vali Loss: 0.0019379\n"
     ]
    },
    {
     "name": "stderr",
     "output_type": "stream",
     "text": [
      "Epoch 27, global step 1400: 'val_loss' was not in top 1\n"
     ]
    },
    {
     "data": {
      "application/vnd.jupyter.widget-view+json": {
       "model_id": "fe669077003143efba983b076bafa71c",
       "version_major": 2,
       "version_minor": 0
      },
      "text/plain": [
       "Validation: |                                                                                     | 0/? [00:00…"
      ]
     },
     "metadata": {},
     "output_type": "display_data"
    },
    {
     "name": "stdout",
     "output_type": "stream",
     "text": [
      "Epoch 28: Lr: 0.0000054 | Train Loss: 0.0020450 | Vali Loss: 0.0020473\n"
     ]
    },
    {
     "name": "stderr",
     "output_type": "stream",
     "text": [
      "Epoch 28, global step 1450: 'val_loss' was not in top 1\n"
     ]
    },
    {
     "data": {
      "application/vnd.jupyter.widget-view+json": {
       "model_id": "8fead8e7bd2740cab2e01737cc8e3aad",
       "version_major": 2,
       "version_minor": 0
      },
      "text/plain": [
       "Validation: |                                                                                     | 0/? [00:00…"
      ]
     },
     "metadata": {},
     "output_type": "display_data"
    },
    {
     "name": "stdout",
     "output_type": "stream",
     "text": [
      "Epoch 29: Lr: 0.0000000 | Train Loss: 0.0019744 | Vali Loss: 0.0020424\n"
     ]
    },
    {
     "name": "stderr",
     "output_type": "stream",
     "text": [
      "Epoch 29, global step 1500: 'val_loss' was not in top 1\n",
      "`Trainer.fit` stopped: `max_epochs=30` reached.\n"
     ]
    }
   ],
   "source": [
    "import torch\n",
    "import cv2\n",
    "import numpy as np\n",
    "import os\n",
    "import pickle\n",
    "from core.dummy_videos import create_dummy_video\n",
    "from torch.utils.data import Dataset\n",
    "\n",
    "\n",
    "pre_seq_length = 20\n",
    "aft_seq_length = 10\n",
    "batch_size = 4\n",
    "epoch = 30\n",
    "\n",
    "train_dir = 'train'\n",
    "val_dir = 'val'\n",
    "test_dir = 'auxiliary_dirs/test_dummy'\n",
    "\n",
    "def select_random_file(folder_path):\n",
    "    try:\n",
    "        # List all files in the folder\n",
    "        files = [file for file in os.listdir(folder_path) if os.path.isfile(os.path.join(folder_path, file))]\n",
    "    \n",
    "        # Check if any files are found\n",
    "        if files:\n",
    "            # Randomly select a file and return its full path\n",
    "            return os.path.join(folder_path, files[0])\n",
    "        else:\n",
    "            return None\n",
    "    except FileNotFoundError:\n",
    "        print(\"The specified folder does not exist.\")\n",
    "        return None\n",
    "\n",
    "# Create test dummy video\n",
    "create_dummy_video(select_random_file(train_dir), test_dir, pre_seq_length, aft_seq_length)\n",
    "\n",
    "# Set the precision for matrix multiplications to utilize Tensor Cores\n",
    "torch.set_float32_matmul_precision('high')\n",
    "\n",
    "def sample_frames(video_path, num_frames=20):\n",
    "    # read the video\n",
    "    video = cv2.VideoCapture(video_path)\n",
    "    total_frames = int(video.get(cv2.CAP_PROP_FRAME_COUNT))\n",
    "    # uniformly sample frames from the video\n",
    "    frame_idxs = np.linspace(0, total_frames-1, num_frames, dtype=int)\n",
    "    frames = []\n",
    "    for idx in frame_idxs:\n",
    "        video.set(cv2.CAP_PROP_POS_FRAMES, idx)\n",
    "        _, frame = video.read()\n",
    "        # frame = cv2.resize(frame, (height, width))\n",
    "        frames.append(frame)\n",
    "    video.release()\n",
    "    return np.stack(frames)\n",
    "\n",
    "def process_folder(folder_path, pre_slen=10, aft_slen=10, suffix='.avi'):\n",
    "    # get all the videos in this folder\n",
    "    videos = []\n",
    "    files = os.listdir(folder_path)\n",
    "    for file in files:\n",
    "        video_path = os.path.join(folder_path, file)\n",
    "        if os.path.isfile(video_path) and file.endswith(suffix):\n",
    "            video = sample_frames(video_path, pre_slen + aft_slen)\n",
    "            videos.append(video)\n",
    "    # stack video frames from each folder\n",
    "    data = np.stack(videos).transpose(0, 1, 4, 2, 3)\n",
    "\n",
    "    # if the data is in [0, 255], rescale it into [0, 1]\n",
    "    if data.max() > 1.0:\n",
    "        data = data.astype(np.float32) / 255.0\n",
    "\n",
    "    return data[:, :pre_slen], data[:, pre_slen:]\n",
    "\n",
    "class CustomDataset(Dataset):\n",
    "    def __init__(self, X, Y, normalize=False, data_name='custom'):\n",
    "        super(CustomDataset, self).__init__()\n",
    "        self.X = X\n",
    "        self.Y = Y\n",
    "        self.mean = None\n",
    "        self.std = None\n",
    "        self.data_name = data_name\n",
    "\n",
    "        if normalize:\n",
    "            # get the mean/std values along the channel dimension\n",
    "            mean = data.mean(axis=(0, 1, 2, 3)).reshape(1, 1, -1, 1, 1)\n",
    "            std = data.std(axis=(0, 1, 2, 3)).reshape(1, 1, -1, 1, 1)\n",
    "            data = (data - mean) / std\n",
    "            self.mean = mean\n",
    "            self.std = std\n",
    "\n",
    "    def __len__(self):\n",
    "        return self.X.shape[0]\n",
    "\n",
    "    def __getitem__(self, index):\n",
    "        data = torch.tensor(self.X[index]).float()\n",
    "        labels = torch.tensor(self.Y[index]).float()\n",
    "        return data, labels\n",
    "\n",
    "dataset = {}\n",
    "folders = [train_dir, val_dir, test_dir]\n",
    "for folder in folders:\n",
    "    data_x, data_y = process_folder(folder, pre_slen=pre_seq_length, aft_slen=aft_seq_length, suffix='.avi')\n",
    "    dataset['X_' + folder], dataset['Y_' + folder] = data_x, data_y\n",
    "\n",
    "# save as a pkl file\n",
    "with open('dataset_train.pkl', 'wb') as f:#MUDAR AQUI\n",
    "    pickle.dump(dataset, f)\n",
    "\n",
    "# load the dataset\n",
    "with open('dataset_train.pkl', 'rb') as f:#MUDAR AQUI\n",
    "    dataset = pickle.load(f)\n",
    "\n",
    "train_x, train_y = dataset['X_train'], dataset['Y_train']\n",
    "print(train_x.shape)\n",
    "# the shape is B x T x C x H x W\n",
    "# B: the number of samples\n",
    "# T: the number of frames in each sample\n",
    "# C, H, W: the channel, height, width of each frame\n",
    "\n",
    "X_train, X_val, X_test, Y_train, Y_val, Y_test = dataset[f'X_{train_dir}'], dataset[\n",
    "    f'X_{val_dir}'], dataset[f'X_{test_dir}'], dataset[f'Y_{train_dir}'], dataset[f'Y_{val_dir}'], dataset[f'Y_{test_dir}']#MUDAR AQUI\n",
    "\n",
    "train_set = CustomDataset(X=X_train, Y=Y_train)\n",
    "val_set = CustomDataset(X=X_val, Y=Y_val)\n",
    "test_set = CustomDataset(X=X_test, Y=Y_test)\n",
    "\n",
    "dataloader_train = torch.utils.data.DataLoader(\n",
    "    train_set, batch_size=batch_size, shuffle=True, pin_memory=True)\n",
    "dataloader_val = torch.utils.data.DataLoader(\n",
    "    val_set, batch_size=batch_size, shuffle=True, pin_memory=True)\n",
    "dataloader_test = torch.utils.data.DataLoader(\n",
    "    test_set, batch_size=1, shuffle=True, pin_memory=True)\n",
    "\n",
    "\n",
    "custom_training_config = {\n",
    "    'pre_seq_length': pre_seq_length,\n",
    "    'aft_seq_length': aft_seq_length,\n",
    "    'total_length': pre_seq_length + aft_seq_length,\n",
    "    'batch_size': batch_size,\n",
    "    'val_batch_size': batch_size,\n",
    "    'epoch': epoch,\n",
    "    'lr': 0.001,   \n",
    "    'metrics': ['mse', 'mae'],\n",
    "\n",
    "    'ex_name': 'custom_exp',\n",
    "    'dataname': 'custom',\n",
    "    'in_shape': [pre_seq_length, train_x.shape[2], train_x.shape[3], train_x.shape[4]], #pre_seq_length, channels, height, widht\n",
    "}\n",
    "\n",
    "custom_model_config = {\n",
    "    # For MetaVP models, the most important hyperparameters are: \n",
    "    # N_S, N_T, hid_S, hid_T, model_type\n",
    "    'method': 'SimVP',\n",
    "    # Users can either using a config file or directly set these hyperparameters \n",
    "    # 'config_file': 'configs/custom/example_model.py',\n",
    "    \n",
    "    # Here, we directly set these parameters\n",
    "    'model_type': 'gSTA',\n",
    "    'N_S': 4,\n",
    "    'N_T': 8,\n",
    "    'hid_S': 64,\n",
    "    'hid_T': 256\n",
    "}\n",
    "\n",
    "from openstl.api import BaseExperiment\n",
    "from openstl.utils import create_parser, default_parser\n",
    "\n",
    "args = create_parser().parse_args([])\n",
    "config = args.__dict__\n",
    "\n",
    "# update the training config\n",
    "config.update(custom_training_config)\n",
    "# update the model config\n",
    "config.update(custom_model_config)\n",
    "# fulfill with default values\n",
    "default_values = default_parser()\n",
    "for attribute in default_values.keys():\n",
    "    if config[attribute] is None:\n",
    "        config[attribute] = default_values[attribute]\n",
    "\n",
    "exp = BaseExperiment(args, dataloaders=(dataloader_train, dataloader_val, dataloader_test), strategy='auto')\n",
    "\n",
    "print('>'*35 + ' training ' + '<'*35)\n",
    "exp.train()"
   ]
  },
  {
   "cell_type": "code",
   "execution_count": null,
   "id": "a6cc7ad6-6438-42ec-b92b-5d08b51ddc99",
   "metadata": {},
   "outputs": [],
   "source": []
  }
 ],
 "metadata": {
  "kernelspec": {
   "display_name": "Python 3 (ipykernel)",
   "language": "python",
   "name": "python3"
  },
  "language_info": {
   "codemirror_mode": {
    "name": "ipython",
    "version": 3
   },
   "file_extension": ".py",
   "mimetype": "text/x-python",
   "name": "python",
   "nbconvert_exporter": "python",
   "pygments_lexer": "ipython3",
   "version": "3.10.8"
  }
 },
 "nbformat": 4,
 "nbformat_minor": 5
}
